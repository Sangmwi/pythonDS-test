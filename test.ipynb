{
 "cells": [
  {
   "cell_type": "code",
   "execution_count": 6,
   "metadata": {},
   "outputs": [
    {
     "name": "stdout",
     "output_type": "stream",
     "text": [
      "Requirement already satisfied: bs4 in .\\.conda\\lib\\site-packages (0.0.2)\n",
      "Collecting statsmodels\n",
      "  Using cached statsmodels-0.14.4-cp311-cp311-win_amd64.whl.metadata (9.5 kB)\n",
      "Requirement already satisfied: beautifulsoup4 in .\\.conda\\lib\\site-packages (from bs4) (4.13.4)\n",
      "Requirement already satisfied: numpy<3,>=1.22.3 in .\\.conda\\lib\\site-packages (from statsmodels) (2.1.3)\n",
      "Requirement already satisfied: scipy!=1.9.2,>=1.8 in .\\.conda\\lib\\site-packages (from statsmodels) (1.15.2)\n",
      "Requirement already satisfied: pandas!=2.1.0,>=1.4 in .\\.conda\\lib\\site-packages (from statsmodels) (2.2.3)\n",
      "Collecting patsy>=0.5.6 (from statsmodels)\n",
      "  Using cached patsy-1.0.1-py2.py3-none-any.whl.metadata (3.3 kB)\n",
      "Requirement already satisfied: packaging>=21.3 in .\\.conda\\lib\\site-packages (from statsmodels) (25.0)\n",
      "Requirement already satisfied: python-dateutil>=2.8.2 in .\\.conda\\lib\\site-packages (from pandas!=2.1.0,>=1.4->statsmodels) (2.9.0.post0)\n",
      "Requirement already satisfied: pytz>=2020.1 in .\\.conda\\lib\\site-packages (from pandas!=2.1.0,>=1.4->statsmodels) (2025.2)\n",
      "Requirement already satisfied: tzdata>=2022.7 in .\\.conda\\lib\\site-packages (from pandas!=2.1.0,>=1.4->statsmodels) (2025.2)\n",
      "Requirement already satisfied: soupsieve>1.2 in .\\.conda\\lib\\site-packages (from beautifulsoup4->bs4) (2.7)\n",
      "Requirement already satisfied: typing-extensions>=4.0.0 in .\\.conda\\lib\\site-packages (from beautifulsoup4->bs4) (4.13.2)\n",
      "Requirement already satisfied: six>=1.5 in .\\.conda\\lib\\site-packages (from python-dateutil>=2.8.2->pandas!=2.1.0,>=1.4->statsmodels) (1.17.0)\n",
      "Using cached statsmodels-0.14.4-cp311-cp311-win_amd64.whl (9.9 MB)\n",
      "Using cached patsy-1.0.1-py2.py3-none-any.whl (232 kB)\n",
      "Installing collected packages: patsy, statsmodels\n",
      "Successfully installed patsy-1.0.1 statsmodels-0.14.4\n",
      "Note: you may need to restart the kernel to use updated packages.\n"
     ]
    }
   ],
   "source": [
    "# %pip install pandas numpy matplotlib seaborn scipy scikit-learn tensorflow\n",
    "%pip install bs4 statsmodels"
   ]
  },
  {
   "cell_type": "code",
   "execution_count": 7,
   "metadata": {},
   "outputs": [],
   "source": [
    "import pandas as pd\n",
    "import numpy as np\n",
    "\n",
    "import matplotlib.pyplot as plt\n",
    "%matplotlib inline\n",
    "import seaborn as sns\n",
    "from urllib.request import urlopen \n",
    "from bs4 import BeautifulSoup \n",
    "import time\n",
    "\n",
    "from matplotlib import font_manager, rc\n",
    "\n",
    "# 한글 폰트 설정\n",
    "plt.rcParams['font.family'] = 'Malgun Gothic'  # Windows인 경우\n",
    "# plt.rcParams['font.family'] = 'AppleGothic'  # MacOS인 경우\n",
    "\n",
    "# 마이너스 기호 깨짐 방지\n",
    "plt.rcParams['axes.unicode_minus'] = False\n",
    "\n",
    "import statsmodels.api as sm\n",
    "from statsmodels.formula.api import ols\n",
    "\n",
    "import warnings\n",
    "warnings.filterwarnings(\"ignore\")\n",
    "\n",
    "import math \n",
    "from scipy.stats import logistic\n",
    "from scipy.stats import trim_mean\n",
    "import tensorflow as tf\n",
    "from sklearn.preprocessing import MinMaxScaler\n",
    "from sklearn.preprocessing import StandardScaler\n",
    "from sklearn.preprocessing import scale \n",
    "\n",
    "from sklearn.metrics import roc_curve\n",
    "from sklearn.metrics import roc_auc_score\n",
    "from sklearn.linear_model import LogisticRegression\n",
    "from sklearn.model_selection import train_test_split\n",
    "from sklearn.metrics import classification_report\n",
    "from sklearn.metrics import confusion_matrix, mean_squared_error\n",
    "\n",
    "from sklearn.neighbors import KNeighborsClassifier\n",
    "from sklearn.naive_bayes import *\n",
    "\n",
    "from sklearn.tree import DecisionTreeClassifier, DecisionTreeRegressor\n",
    "from sklearn import tree\n",
    "\n",
    "from sklearn.ensemble import RandomForestRegressor, RandomForestClassifier\n",
    "from sklearn.svm import SVC, SVR\n",
    "from sklearn.cluster import KMeans\n",
    "\n",
    "from tensorflow.keras.layers import Dense, Flatten, Dropout, Activation\n",
    "from tensorflow.keras.models import Sequential\n",
    "from tensorflow.keras.utils import to_categorical\n",
    "from tensorflow.keras.datasets import mnist\n",
    "from tensorflow.keras.optimizers import Adam\n"
   ]
  },
  {
   "cell_type": "markdown",
   "metadata": {},
   "source": []
  },
  {
   "cell_type": "code",
   "execution_count": 8,
   "metadata": {},
   "outputs": [
    {
     "name": "stdout",
     "output_type": "stream",
     "text": [
      "[ 2 10  1  1  1  1  1 10  1  2]\n",
      "[10 10 10 10 10  2  2  2  1 10]\n",
      "[2 1 2 1 2 1 2 2 2 2]\n",
      "[10  1  1 10 10 10  2 10  2 10]\n",
      "[ 1 10  1  1  2 10  1  2  1  1]\n"
     ]
    }
   ],
   "source": [
    "# 5 Python 실습\n",
    "# • 1,2,10 세 장의 카드가 있는 상자가 있다. 무작위 복원추출로 카드를 1장\n",
    "# 씩 뽑아 그 합을 확률변수 X로 정의하자.\n",
    "# Q8) 복원추출 횟수=10번 하는 경우 경험적 히스토그램을 작성하세요.\n",
    "# (the number of repetitions=50000)\n",
    "\n",
    "\n",
    "# 코드작성\n",
    "\n",
    "# 카드 번호 조합\n",
    "card = [1,2,10]\n",
    "\n",
    "#반복 횟수\n",
    "repeatition = 5\n",
    "\n",
    "\n",
    "# 반복 횟수만큼 반복\n",
    "for i in range(repeatition):\n",
    "  X = np.random.choice(card, size=1)\n",
    "  print(X)\n"
   ]
  }
 ],
 "metadata": {
  "kernelspec": {
   "display_name": "Python 3",
   "language": "python",
   "name": "python3"
  },
  "language_info": {
   "codemirror_mode": {
    "name": "ipython",
    "version": 3
   },
   "file_extension": ".py",
   "mimetype": "text/x-python",
   "name": "python",
   "nbconvert_exporter": "python",
   "pygments_lexer": "ipython3",
   "version": "3.11.11"
  }
 },
 "nbformat": 4,
 "nbformat_minor": 2
}
